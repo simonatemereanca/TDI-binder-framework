{
 "cells": [
  {
   "cell_type": "code",
   "execution_count": null,
   "metadata": {},
   "outputs": [],
   "source": [
    "import numpy as np\n",
    "import pandas as pd\n",
    "import pathlib\n",
    "import re\n",
    "import matplotlib.pyplot as plt\n",
    "import seaborn as sns"
   ]
  },
  {
   "cell_type": "code",
   "execution_count": null,
   "metadata": {},
   "outputs": [],
   "source": [
    "# Manually downloaded data set from link:\n",
    "# https://data.cityofnewyork.us/City-Government/Value-of-Energy-Cost-Savings-Program-Savings-for-B/bug8-9f3g\n",
    "# (under \"Export\" option, retrieve CSV file)\n",
    "\n",
    "# load data into pandas\n",
    "fileName = \"Value_of_Energy_Cost_Savings_Program_Savings_for_Businesses.csv\"\n",
    "dataPath = pathlib.Path().resolve().joinpath(\"data\", fileName)\n",
    "# print(f\"Path to data set: {dataPath}\")\n",
    "df = pd.read_csv(dataPath)"
   ]
  },
  {
   "cell_type": "code",
   "execution_count": null,
   "metadata": {},
   "outputs": [],
   "source": [
    "df.head()"
   ]
  },
  {
   "cell_type": "code",
   "execution_count": null,
   "metadata": {},
   "outputs": [],
   "source": [
    "print(f\"df.shape: {df.shape}\")\n",
    "print(f\"df.columns: {df.columns}\")"
   ]
  },
  {
   "cell_type": "code",
   "execution_count": null,
   "metadata": {},
   "outputs": [],
   "source": [
    "# 1 How many different companies are represented in the data set?\n",
    "print(\"### 1 ###\")\n",
    "print(f\"Number of unique companies: {df['Company Name'].str.lower().nunique()}\\n\")\n",
    "\n",
    "# 2 What is the total number of jobs created for businesses in Queens?\n",
    "print(\"### 2 ###\")\n",
    "print(f\"Unique boroughs: {df['Borough'].unique()}\")\n",
    "print(f\"Number of jobs created for businesses in Queens: {df.loc[df['Borough'] == 'QUEENS', :]['Job created'].sum()}\\n\")\n",
    "\n",
    "# 3 How many different unique email domains names are there in the data set?\n",
    "print(\"### 3 ###\")\n",
    "# get desired column 'company email' as a pandas series, convert strings to lowercase\n",
    "# use apply function to get email domain for each element\n",
    "# get unique email domains, compute sum\n",
    "\n",
    "def get_email_domain(str_email):\n",
    "    \"\"\"Get domain from email address.\n",
    "       Email address must have the at sign @,\n",
    "       if not \"None\" is returned.\n",
    "    \"\"\"\n",
    "    if str_email:\n",
    "        try:\n",
    "            regx_pattern = r'@[\\w.]+'\n",
    "            domain = re.search(regx_pattern, str_email).group()\n",
    "        except AttributeError:\n",
    "            domain = None\n",
    "    else:\n",
    "        domain = None\n",
    "\n",
    "    return domain\n",
    "\n",
    "# Add column with the email domain\n",
    "df['email domain'] = df.loc[df['company email'].notnull(), 'company email'].str.lower().apply(lambda x : get_email_domain(x))\n",
    "\n",
    "# Compute number of unique email domains\n",
    "print(f\"Number of unique email domains: {df['email domain'].nunique()}\\n\")\n",
    "\n",
    "# 4 Considering only NTAs with at least 5 listed businesses, \n",
    "# what is the average total savings and the total jobs created for each NTA?\n",
    "print(\"### 4 ###\")\n",
    "print(f\"Compute the average total savings and the total jobs created for each NTA with at least 5 listed businesses...\\n\")\n",
    "NTA_groups = df.groupby('Neighborhood Tabulation Area (NTA) (2020)')\n",
    "results = NTA_groups.agg({'Total Savings': [('average total savings', np.mean)], 'Job created': [('total job created', np.sum)]})\n",
    "results.columns = results.columns.get_level_values(1)\n",
    "results = results.loc[NTA_groups.size() >= 5, :]\n",
    "\n",
    "# 5 Save your result for the previous question as a CSV file.\n",
    "print(\"### 5 ###\")\n",
    "file_name = 'results_stats_NTA_groups.csv'\n",
    "results.to_csv(file_name, encoding='utf-8', index=True)\n",
    "print(f\"Results saved in {file_name}\")"
   ]
  },
  {
   "cell_type": "code",
   "execution_count": null,
   "metadata": {},
   "outputs": [],
   "source": [
    "results.head()"
   ]
  },
  {
   "cell_type": "code",
   "execution_count": null,
   "metadata": {},
   "outputs": [],
   "source": [
    "# Create scatter plot of jobs created versus average savings. \n",
    "# Use both a standard and a logarithmic scale for the average savings.\n",
    "\n",
    "# histogram on linear scale\n",
    "sns.scatterplot(x='average total savings', y='total job created', data=results, s=150)\n",
    "plt.xlabel('Average total savings')\n",
    "plt.ylabel('Jobs created')\n",
    "plt.title('jobs created vs average savings')\n",
    "plt.show()\n",
    "\n",
    "# histogram on log scale.\n",
    "sns.scatterplot(x='average total savings', y='total job created', data=results, s=150)\n",
    "plt.xscale('log')\n",
    "plt.xlabel('Average total savings')\n",
    "plt.ylabel('Jobs created')\n",
    "plt.title('jobs created vs average savings')\n",
    "plt.show()\n",
    "\n",
    "# Create a histogram of the log of the average total savings.\n",
    "# sns.histplot(np.log(results['Total Savings']), stat='probability', kde=True)\n",
    "sns.histplot(np.log(results['average total savings']), stat='probability')\n",
    "plt.xlabel('ln(Average total savings)')\n",
    "plt.ylabel('Fraction of observations')\n",
    "# plt.title('ln average total savings distribution plot')\n",
    "plt.show()"
   ]
  },
  {
   "cell_type": "code",
   "execution_count": null,
   "metadata": {},
   "outputs": [],
   "source": []
  }
 ],
 "metadata": {
  "kernelspec": {
   "display_name": "base",
   "language": "python",
   "name": "python3"
  },
  "language_info": {
   "codemirror_mode": {
    "name": "ipython",
    "version": 3
   },
   "file_extension": ".py",
   "mimetype": "text/x-python",
   "name": "python",
   "nbconvert_exporter": "python",
   "pygments_lexer": "ipython3",
   "version": "3.11.5"
  }
 },
 "nbformat": 4,
 "nbformat_minor": 2
}
